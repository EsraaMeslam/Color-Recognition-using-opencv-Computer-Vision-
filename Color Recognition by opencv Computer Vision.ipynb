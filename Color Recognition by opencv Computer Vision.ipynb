{
 "cells": [
  {
   "cell_type": "markdown",
   "id": "deb24adc",
   "metadata": {},
   "source": [
    "## Color Recognition by opencv Computer Vision"
   ]
  },
  {
   "cell_type": "code",
   "execution_count": 1,
   "id": "398e90fe",
   "metadata": {},
   "outputs": [],
   "source": [
    "import cv2"
   ]
  },
  {
   "cell_type": "code",
   "execution_count": 2,
   "id": "f4e7117f",
   "metadata": {},
   "outputs": [],
   "source": [
    "\n",
    "cap = cv2.VideoCapture(0) # record vid\n",
    "cap.set(cv2.CAP_PROP_FRAME_WIDTH, 700) # assign vid's width\n",
    "cap.set(cv2.CAP_PROP_FRAME_HEIGHT, 400)# assign vid's height\n",
    "\n",
    "while True:\n",
    "    _, frame = cap.read()\n",
    "    hsv_frame = cv2.cvtColor(frame, cv2.COLOR_BGR2HSV) # convert image to HSV \n",
    "    height, width, _ = frame.shape\n",
    "\n",
    "    cx = int(width / 2) # get center of width\n",
    "    cy = int(height / 2)# get center of height\n",
    "\n",
    "    \n",
    "    pixel_center = hsv_frame[cy, cx] \n",
    "    hue_value = pixel_center[0]\n",
    "\n",
    "    color = \"Undefined\"\n",
    "    if hue_value < 5:\n",
    "        color = \"RED\"\n",
    "    elif hue_value < 15:\n",
    "        color = \"ORANGE\"\n",
    "    elif hue_value < 21:\n",
    "        color = \"YELLOW\"\n",
    "    elif hue_value < 83:\n",
    "        color = \"GREEN\"\n",
    "    elif hue_value < 128:\n",
    "        color = \"BLUE\"\n",
    "    elif hue_value < 153:\n",
    "        color = \"VIOLET\"\n",
    "    elif hue_value < 170:\n",
    "        color = \"PInk\"\n",
    "    else:\n",
    "        color = \"Undefined\"\n",
    "#     frame = cv2.flip(frame, 1) # Flip the image horizontally\n",
    "\n",
    "    pixel_center_bgr = frame[cy, cx] \n",
    "    b, g, r = int(pixel_center_bgr[0]), int(pixel_center_bgr[1]), int(pixel_center_bgr[2]) # assign text color as Hsv of the object color\n",
    "    \n",
    "    cv2.putText(frame, color, (cx - 70, cy + 50), cv2.FONT_HERSHEY_SIMPLEX, 1, (b, g, r), 2) # text (color)\n",
    "    cv2.circle(frame, (cx, cy), 5, (25, 25, 25), 3) # that take the object ti detect its color\n",
    "    cv2.imshow(\"Frame\", frame)\n",
    "    \n",
    "    key = cv2.waitKey(1)\n",
    "    if key == 27:\n",
    "        break\n",
    "\n",
    "cap.release()\n",
    "cv2.destroyAllWindows()\n"
   ]
  },
  {
   "cell_type": "markdown",
   "id": "6334f7cd",
   "metadata": {},
   "source": [
    "### Wish U luck\n",
    "### Esraa Meslam"
   ]
  }
 ],
 "metadata": {
  "kernelspec": {
   "display_name": "Python 3 (ipykernel)",
   "language": "python",
   "name": "python3"
  },
  "language_info": {
   "codemirror_mode": {
    "name": "ipython",
    "version": 3
   },
   "file_extension": ".py",
   "mimetype": "text/x-python",
   "name": "python",
   "nbconvert_exporter": "python",
   "pygments_lexer": "ipython3",
   "version": "3.10.9"
  }
 },
 "nbformat": 4,
 "nbformat_minor": 5
}
